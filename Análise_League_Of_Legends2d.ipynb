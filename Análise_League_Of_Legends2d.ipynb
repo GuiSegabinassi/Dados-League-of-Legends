{
  "nbformat": 4,
  "nbformat_minor": 0,
  "metadata": {
    "colab": {
      "provenance": [],
      "authorship_tag": "ABX9TyOoo8clXxC6pxo/nS5tD01z",
      "include_colab_link": true
    },
    "kernelspec": {
      "name": "python3",
      "display_name": "Python 3"
    },
    "language_info": {
      "name": "python"
    }
  },
  "cells": [
    {
      "cell_type": "markdown",
      "metadata": {
        "id": "view-in-github",
        "colab_type": "text"
      },
      "source": [
        "<a href=\"https://colab.research.google.com/github/GuiSegabinassi/Dados-League-of-Legends/blob/main/An%C3%A1lise_League_Of_Legends2d.ipynb\" target=\"_parent\"><img src=\"https://colab.research.google.com/assets/colab-badge.svg\" alt=\"Open In Colab\"/></a>"
      ]
    },
    {
      "cell_type": "code",
      "execution_count": null,
      "metadata": {
        "id": "hbJflTqpy0W1"
      },
      "outputs": [],
      "source": [
        "import pandas as pd\n",
        "import numpy as np\n",
        "import matplotlib.pyplot as plt\n",
        "import seaborn as sns\n",
        "import sklearn as sk\n",
        "from sklearn.model_selection import train_test_split\n",
        "%matplotlib inline\n"
      ]
    },
    {
      "cell_type": "code",
      "source": [
        "filename = 'games.csv'\n",
        "spells = 'summoner_spell_info.json'\n",
        "def load_data(file):\n",
        "    return pd.read_csv(file)"
      ],
      "metadata": {
        "id": "5fj-bbgfy2-t"
      },
      "execution_count": null,
      "outputs": []
    },
    {
      "cell_type": "code",
      "source": [
        "games_full = load_data(filename)\n"
      ],
      "metadata": {
        "id": "0Zvrjc3V0SeH"
      },
      "execution_count": null,
      "outputs": []
    },
    {
      "cell_type": "code",
      "source": [
        "games_train,games_test = train_test_split(games_full,test_size=0.3,random_state=42)"
      ],
      "metadata": {
        "id": "yNl77fU41Dr2"
      },
      "execution_count": null,
      "outputs": []
    },
    {
      "cell_type": "code",
      "source": [
        "games_train.head()"
      ],
      "metadata": {
        "id": "ClrKzlGI3Ean"
      },
      "execution_count": null,
      "outputs": []
    },
    {
      "cell_type": "code",
      "source": [
        "games_train.info()"
      ],
      "metadata": {
        "id": "yD0b_wSf4BLM"
      },
      "execution_count": null,
      "outputs": []
    },
    {
      "cell_type": "code",
      "source": [
        "games_train.isnull().sum()"
      ],
      "metadata": {
        "id": "OS4VHCt04lCK"
      },
      "execution_count": null,
      "outputs": []
    },
    {
      "cell_type": "code",
      "source": [
        "games_train.describe()"
      ],
      "metadata": {
        "id": "iZkljtGR5Mon"
      },
      "execution_count": null,
      "outputs": []
    },
    {
      "cell_type": "code",
      "source": [
        "games_train['winner'].value_counts()"
      ],
      "metadata": {
        "id": "Z1OzynFh6xV1"
      },
      "execution_count": null,
      "outputs": []
    },
    {
      "cell_type": "markdown",
      "source": [
        "O time 1 venceu 50,56% das partidas\n",
        "O time 2 venceu 49,44% das partidas"
      ],
      "metadata": {
        "id": "-Nb3-_grO5td"
      }
    },
    {
      "cell_type": "code",
      "source": [
        "games_train['firstBlood'].value_counts()"
      ],
      "metadata": {
        "id": "Tinb0Vw7BsGa"
      },
      "execution_count": null,
      "outputs": []
    },
    {
      "cell_type": "code",
      "source": [
        "games_train['firstTower'].value_counts()"
      ],
      "metadata": {
        "id": "w2_1pnoSFOx6"
      },
      "execution_count": null,
      "outputs": []
    },
    {
      "cell_type": "code",
      "source": [
        "games_train['firstDragon'].value_counts()"
      ],
      "metadata": {
        "id": "z5yPVyzHGE4G"
      },
      "execution_count": null,
      "outputs": []
    },
    {
      "cell_type": "code",
      "source": [
        "games_train['firstBaron'].value_counts()"
      ],
      "metadata": {
        "id": "wy7sVYFXI5kj"
      },
      "execution_count": null,
      "outputs": []
    },
    {
      "cell_type": "code",
      "source": [
        "games_train['firstInhibitor'].value_counts()"
      ],
      "metadata": {
        "id": "pmCBTM8gJ8sH"
      },
      "execution_count": null,
      "outputs": []
    },
    {
      "cell_type": "code",
      "source": [
        "sns.countplot(x = 'firstDragon', data=games_train)"
      ],
      "metadata": {
        "id": "weYi3VG5KhQG"
      },
      "execution_count": null,
      "outputs": []
    },
    {
      "cell_type": "code",
      "source": [
        "sns.countplot(x = 'winner', data=games_train, hue='firstDragon')"
      ],
      "metadata": {
        "id": "d3TQhb8FL-Ld"
      },
      "execution_count": null,
      "outputs": []
    },
    {
      "cell_type": "code",
      "source": [
        "sns.countplot(x = 'winner', data=games_train, hue='firstBlood')"
      ],
      "metadata": {
        "id": "CWccSMZoNR0D"
      },
      "execution_count": null,
      "outputs": []
    },
    {
      "cell_type": "code",
      "source": [
        "sns.countplot(x = 'winner', data=games_train, hue='firstTower')"
      ],
      "metadata": {
        "id": "nItNNMwuNlUv"
      },
      "execution_count": null,
      "outputs": []
    },
    {
      "cell_type": "code",
      "source": [
        "sns.countplot(x = 'winner', data=games_train, hue='firstBaron')"
      ],
      "metadata": {
        "id": "BYBtWwiJNv2_"
      },
      "execution_count": null,
      "outputs": []
    },
    {
      "cell_type": "code",
      "source": [
        "sns.countplot(x = 'winner', data=games_train, hue='firstInhibitor')"
      ],
      "metadata": {
        "id": "YDa-9LCNN_Xm",
        "colab": {
          "base_uri": "https://localhost:8080/",
          "height": 296
        },
        "outputId": "b198bec2-7074-4572-e9ff-7cf7a1f4430b"
      },
      "execution_count": 11,
      "outputs": [
        {
          "output_type": "execute_result",
          "data": {
            "text/plain": [
              "<matplotlib.axes._subplots.AxesSubplot at 0x7fd80cb3ab50>"
            ]
          },
          "metadata": {},
          "execution_count": 11
        },
        {
          "output_type": "display_data",
          "data": {
            "text/plain": [
              "<Figure size 432x288 with 1 Axes>"
            ],
            "image/png": "[encoded data removed]"
          },
          "metadata": {
            "needs_background": "light"
          }
        }
      ]
    },
    {
      "cell_type": "markdown",
      "source": [
        "Agora vamos comparar esses diferentes recursos"
      ],
      "metadata": {
        "id": "kIWcEf7_Or8d"
      }
    },
    {
      "cell_type": "markdown",
      "source": [
        "Todos esses recursos estão altamente relacionados com o time que venceu a partida"
      ],
      "metadata": {
        "id": "Od0-2rKAPehs"
      }
    },
    {
      "cell_type": "markdown",
      "source": [
        "levando em consideração partidas fora do cenario competitivo, em partidas de Soloq o primeiro barão não parece tão importante para uma equive atingir a vitoria, porém devemos levar em consideração o tempo dessas partidas já que esse objetivo não aparece no mapa antes dos 20 minutos de jogo "
      ],
      "metadata": {
        "id": "2H49z6W_PxWU"
      }
    },
    {
      "cell_type": "markdown",
      "source": [
        "Podemos ver também que o primeiro abate não é tão importante como os outros objetivos"
      ],
      "metadata": {
        "id": "-f09NR6vRu-i"
      }
    },
    {
      "cell_type": "code",
      "source": [
        "corr_matrix = games_train.corr()"
      ],
      "metadata": {
        "id": "Yn2eNv37SDMH"
      },
      "execution_count": null,
      "outputs": []
    },
    {
      "cell_type": "code",
      "source": [
        "corr_matrix['winner'].sort_values(ascending=False)"
      ],
      "metadata": {
        "id": "r9_D3XvWSTU4"
      },
      "execution_count": null,
      "outputs": []
    },
    {
      "cell_type": "code",
      "source": [
        "sns.countplot(x='t2_towerKills', data = games_train, hue='winner')"
      ],
      "metadata": {
        "id": "5XTsGdVMwz7Q"
      },
      "execution_count": null,
      "outputs": []
    },
    {
      "cell_type": "code",
      "source": [
        "sns.countplot(x='t1_towerKills', data = games_train, hue='winner')"
      ],
      "metadata": {
        "id": "KgzFPOrtx3_1"
      },
      "execution_count": null,
      "outputs": []
    },
    {
      "cell_type": "code",
      "source": [
        "sum_157_1 = 0\n",
        "sum_157_2 = 0\n",
        "for i in range(1,3):\n",
        "    for j in range(1,6):\n",
        "        if i == 1:\n",
        "            sum_157_1 += games_train[games_train['t' + str(i) + '_ban' + str(j)] == 157]['t' + str(i) + '_ban' + str(j)].value_counts()\n",
        "        else:\n",
        "            sum_157_2 += games_train[games_train['t' + str(i) + '_ban' + str(j)] == 157]['t' + str(i) + '_ban' + str(j)].value_counts()\n",
        "\n",
        "print('Team 1 banned 157 %s times.' % str(sum_157_1))\n",
        "print('Team 2 banned 157 %s times.' % str(sum_157_2))"
      ],
      "metadata": {
        "id": "NFEzCP8ayVqx"
      },
      "execution_count": null,
      "outputs": []
    },
    {
      "cell_type": "code",
      "source": [
        "games_train['gameDuration'] = games_train['gameDuration'].apply(lambda x: x/60)"
      ],
      "metadata": {
        "id": "opMwflukygDp"
      },
      "execution_count": null,
      "outputs": []
    },
    {
      "cell_type": "code",
      "source": [
        "games_train['gameDuration'].hist()"
      ],
      "metadata": {
        "id": "m8ZYXk16y8IZ"
      },
      "execution_count": null,
      "outputs": []
    },
    {
      "cell_type": "code",
      "source": [
        "tower = games_train[['firstInhibitor', 'winner']]"
      ],
      "metadata": {
        "id": "eWA1I8U-zywJ"
      },
      "execution_count": null,
      "outputs": []
    },
    {
      "cell_type": "code",
      "source": [
        "winner_1 = 18223\n",
        "winner_2 = 17820"
      ],
      "metadata": {
        "id": "5C78aUvc0DYA"
      },
      "execution_count": null,
      "outputs": []
    },
    {
      "cell_type": "code",
      "source": [
        "(tower[games_train['firstInhibitor']==1][games_train['winner']==1].sum()['winner']/winner_1) * 100"
      ],
      "metadata": {
        "colab": {
          "base_uri": "https://localhost:8080/"
        },
        "id": "IJ0Z8_I50Jip",
        "outputId": "ef26d368-6b26-4573-8e4e-50ffbc83bcc6"
      },
      "execution_count": null,
      "outputs": [
        {
          "output_type": "stream",
          "name": "stderr",
          "text": [
            "<ipython-input-21-aedc4fbe51d4>:1: UserWarning: Boolean Series key will be reindexed to match DataFrame index.\n",
            "  (tower[games_train['firstInhibitor']==1][games_train['winner']==1].sum()['winner']/winner_1) * 100\n"
          ]
        },
        {
          "output_type": "execute_result",
          "data": {
            "text/plain": [
              "80.31059649892993"
            ]
          },
          "metadata": {},
          "execution_count": 21
        }
      ]
    },
    {
      "cell_type": "code",
      "source": [
        "def calc_win_percent(team,feature,data,winner):\n",
        "    win = data[[feature,'winner']]\n",
        "    if team == 1:\n",
        "        win = (win[data[feature] == team][data['winner']==team].sum()['winner']/winner) * 100\n",
        "    else:\n",
        "        win = ((win[data[feature] == team][data['winner']==team].sum()/2)['winner']/winner) * 100\n",
        "    return win"
      ],
      "metadata": {
        "id": "SvEiBQbw1Hz9"
      },
      "execution_count": null,
      "outputs": []
    },
    {
      "cell_type": "code",
      "source": [
        "first_tower_win_1 = calc_win_percent(1,'firstTower',games_train,winner_1)"
      ],
      "metadata": {
        "id": "Tx5qvu6T2Szt"
      },
      "execution_count": null,
      "outputs": []
    },
    {
      "cell_type": "code",
      "source": [
        "first_features = []\n",
        "features = ['firstTower','firstBlood','firstInhibitor','firstDragon','firstBaron']\n",
        "firstTower_win1 = calc_win_percent(1,'firstTower',games_train,winner_1)\n",
        "first_features.append(firstTower_win1)\n",
        "\n",
        "firstTower_win2 = calc_win_percent(2,'firstTower',games_train,winner_2)\n",
        "first_features.append(firstTower_win2)\n",
        "\n",
        "firstBlood_win1 = calc_win_percent(1,'firstBlood',games_train,winner_1)\n",
        "first_features.append(firstBlood_win1)\n",
        "\n",
        "firstBlood_win2= calc_win_percent(2,'firstBlood',games_train,winner_2)\n",
        "first_features.append(firstBlood_win2)\n",
        "\n",
        "firstInhib_win1 = calc_win_percent(1,'firstInhibitor',games_train,winner_1)\n",
        "first_features.append(firstInhib_win1)\n",
        "\n",
        "firstInhib_win2 = calc_win_percent(2,'firstInhibitor',games_train,winner_2)\n",
        "first_features.append(firstInhib_win2)\n",
        "\n",
        "firstDragon_win1 = calc_win_percent(1,'firstDragon',games_train,winner_1)\n",
        "first_features.append(firstDragon_win1)\n",
        "\n",
        "firstDragon_win2 = calc_win_percent(2,'firstDragon',games_train,winner_2)\n",
        "first_features.append(firstDragon_win2)\n",
        "\n",
        "firstBaron_win1 = calc_win_percent(1,'firstBaron',games_train,winner_1)\n",
        "first_features.append(firstBaron_win1)\n",
        "\n",
        "firstBaron_win2 = calc_win_percent(2,'firstBaron',games_train,winner_2)\n",
        "first_features.append(firstBaron_win2)"
      ],
      "metadata": {
        "id": "YtMNbm1b22Wd"
      },
      "execution_count": null,
      "outputs": []
    },
    {
      "cell_type": "code",
      "source": [
        "i =0\n",
        "while i < len(features):\n",
        "    print('%s:' % features[i])\n",
        "    \n",
        "    print('Team 1 - %s win rate '% first_features[2*i])\n",
        "    print('Team 2- %s win rate ' % first_features[2*i+1])\n",
        "    i += 1"
      ],
      "metadata": {
        "id": "hhjtEsOs3CUK"
      },
      "execution_count": null,
      "outputs": []
    },
    {
      "cell_type": "code",
      "source": [
        "team = [1, 2]\n",
        "first_team = [first_features[i] for i in range (0, 9, 2)]\n",
        "second_team = [first_features[1] for i in range (1, 10, 2)]"
      ],
      "metadata": {
        "id": "eA_qM1Bm5t-O"
      },
      "execution_count": null,
      "outputs": []
    },
    {
      "cell_type": "code",
      "source": [
        "win_probability = pd.DataFrame([first_team,second_team],columns=features,index=[team]).reset_index()"
      ],
      "metadata": {
        "id": "k7bd5Ae06c_3"
      },
      "execution_count": null,
      "outputs": []
    },
    {
      "cell_type": "code",
      "source": [
        "win_probability=win_probability.rename(columns={'level_0':'winner'})"
      ],
      "metadata": {
        "id": "fAMm7neN7MZa"
      },
      "execution_count": null,
      "outputs": []
    },
    {
      "cell_type": "code",
      "source": [
        "pos = list(range(len(win_probability['winner'])))"
      ],
      "metadata": {
        "id": "vml-Ee958xx2"
      },
      "execution_count": null,
      "outputs": []
    },
    {
      "cell_type": "code",
      "source": [
        "width = 0.10"
      ],
      "metadata": {
        "id": "Y_7mkLFU8_yd"
      },
      "execution_count": null,
      "outputs": []
    },
    {
      "cell_type": "markdown",
      "source": [
        "Traçando os graficos"
      ],
      "metadata": {
        "id": "NUoBRluh9Imi"
      }
    },
    {
      "cell_type": "code",
      "source": [
        "pos = list(range(len(win_probability['winner'])))\n",
        "width = 0.10\n",
        "\n",
        "\n",
        "fig,ax= plt.subplots(figsize=(10,5))\n",
        "\n",
        "\n",
        "plt.bar(pos,\n",
        "       win_probability['firstTower'],\n",
        "       width,\n",
        "       alpha=0.5,\n",
        "       color ='#DC143C',\n",
        "       label=win_probability.columns[1])\n",
        "\n",
        "plt.bar([p + width for p in pos],\n",
        "       win_probability['firstBlood'],\n",
        "       width,\n",
        "       alpha=0.5,\n",
        "       color ='#FF4500',\n",
        "       label=win_probability.columns[2])\n",
        "\n",
        "plt.bar([p + width*2 for p in pos],\n",
        "       win_probability['firstInhibitor'],\n",
        "       width,\n",
        "       alpha=0.5,\n",
        "       color ='#FFFF00',\n",
        "       label=win_probability.columns[3])\n",
        "\n",
        "plt.bar([p + width*3 for p in pos],\n",
        "       win_probability['firstDragon'],\n",
        "       width,\n",
        "       alpha=0.5,\n",
        "       color ='#0000FF',\n",
        "       label=win_probability.columns[4])\n",
        "\n",
        "plt.bar([p + width*4 for p in pos],\n",
        "       win_probability['firstBaron'],\n",
        "       width,\n",
        "       alpha=0.5,\n",
        "       color ='#ADFF2F',\n",
        "       label=win_probability.columns[5])\n",
        "\n",
        "plt.xlim(min(pos)-width, max(pos)+width*5)\n",
        "ax.set_ylabel('Win Probability')\n",
        "ax.set_xlabel('Team')\n",
        "ax.set_title('Probaility of winning from first objective')\n",
        "ax.set_xticks([p + 2 * width for p in pos])\n",
        "ax.set_xticklabels(win_probability['winner'])\n",
        "plt.legend()"
      ],
      "metadata": {
        "id": "E-bIuJSo9iXk"
      },
      "execution_count": null,
      "outputs": []
    },
    {
      "cell_type": "code",
      "source": [
        "games_train.columns"
      ],
      "metadata": {
        "id": "SyVVcm1oCzSU"
      },
      "execution_count": null,
      "outputs": []
    },
    {
      "cell_type": "code",
      "source": [
        "study = ['t1_towerKills','t1_inhibitorKills','t1_baronKills','t1_dragonKills','t1_riftHeraldKills','t2_towerKills','t2_inhibitorKills','t2_baronKills','t2_dragonKills','t2_riftHeraldKills']\n",
        "games_train.groupby('winner')[study].mean()"
      ],
      "metadata": {
        "id": "98WqEaikDD7q"
      },
      "execution_count": null,
      "outputs": []
    },
    {
      "cell_type": "code",
      "source": [
        "sns.countplot(x = 't1_towerKills', data = games_train, hue='winner')"
      ],
      "metadata": {
        "id": "U7V30_FQEOTn"
      },
      "execution_count": null,
      "outputs": []
    },
    {
      "cell_type": "code",
      "source": [
        "sns.countplot(x = 't2_towerKills', data = games_train, hue='winner')"
      ],
      "metadata": {
        "colab": {
          "base_uri": "https://localhost:8080/",
          "height": 297
        },
        "id": "lPYNGi46EiB2",
        "outputId": "95d6dcfc-8403-4dc5-920a-6299bc1fa062"
      },
      "execution_count": null,
      "outputs": [
        {
          "output_type": "execute_result",
          "data": {
            "text/plain": [
              "<matplotlib.axes._subplots.AxesSubplot at 0x7fe075c0beb0>"
            ]
          },
          "metadata": {},
          "execution_count": 86
        },
        {
          "output_type": "display_data",
          "data": {
            "text/plain": [
              "<Figure size 432x288 with 1 Axes>"
            ],
            "image/png": "[encoded data removed]"
          },
          "metadata": {
            "needs_background": "light"
          }
        }
      ]
    },
    {
      "cell_type": "markdown",
      "source": [
        "League of Legends é um jogo extremamente volátil, há diversos fatores que podemos levar em consideração para determinar o vencedor de uma partida, mas com base nas informações que analisamos podemos chegar as seguintes conclusões:\n",
        "1- Os primeiros objetivos que cedem ouro global para uma equipe impactam imensamente no resultado final, conquistar a primeira torre o primeiro Dragão e consequentemente o primeiro inibidor aumentar de forma consideravel as chances de vitórias para uma equipe\n",
        "\n",
        "2- Como nosso querido lolzinho é um jogo de diversas variáveis como número de wards, tempo e composição, conquistar o primeiro abate ou até mesmo o primeiro barão pode não significar grandes chances de vitórias\n",
        "\n",
        "3- Em média para uma equipe vencer ela precisa conquistar 9 torres, 2 inibidores, pelo menos 2 dragão e 1 barão\n",
        "\n",
        "Obs: Uma partida de League of Legends dura em média 30 minutos podendo variar pra mais ou pra menos. Devemos sempre levar em consideração que o Barão só nasce a partir dos 20 minutos de jogo e, cada equipe tem como objetivo também conquistar primeiro 4 dragões para ganhar algum atributo global para a sua equipe.\n",
        "\n",
        "Guilherme Segabinassi da Cunha\n"
      ],
      "metadata": {
        "id": "jBQSAcn4XPLB"
      }
    }
  ]
}